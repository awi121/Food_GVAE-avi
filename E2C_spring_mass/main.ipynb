{
 "cells": [
  {
   "cell_type": "code",
   "execution_count": 14,
   "metadata": {},
   "outputs": [
    {
     "ename": "TypeError",
     "evalue": "tensor(): argument 'dtype' must be torch.dtype, not str",
     "output_type": "error",
     "traceback": [
      "\u001b[0;31m---------------------------------------------------------------------------\u001b[0m",
      "\u001b[0;31mTypeError\u001b[0m                                 Traceback (most recent call last)",
      "Cell \u001b[0;32mIn [14], line 45\u001b[0m\n\u001b[1;32m     43\u001b[0m \u001b[39m## Training loop ##\u001b[39;00m\n\u001b[1;32m     44\u001b[0m \u001b[39mfor\u001b[39;00m i \u001b[39min\u001b[39;00m \u001b[39mrange\u001b[39m(\u001b[39m10000\u001b[39m):\n\u001b[0;32m---> 45\u001b[0m     loss\u001b[39m=\u001b[39mmodel\u001b[39m.\u001b[39;49mtraining_step(train,device)\n\u001b[1;32m     46\u001b[0m     \u001b[39mprint\u001b[39m(i, loss)\n\u001b[1;32m     48\u001b[0m torch\u001b[39m.\u001b[39msave(model\u001b[39m.\u001b[39mstate_dict(), \u001b[39m'\u001b[39m\u001b[39mcurrent_model7\u001b[39m\u001b[39m'\u001b[39m)    \u001b[39m# Save the current model\u001b[39;00m\n",
      "File \u001b[0;32m~/Desktop/Food_GVAE-master/E2C_spring_mass/VAE.py:104\u001b[0m, in \u001b[0;36mVAE.training_step\u001b[0;34m(self, batch, device)\u001b[0m\n\u001b[1;32m    101\u001b[0m running_loss\u001b[39m=\u001b[39m[\u001b[39m0.\u001b[39m,\u001b[39m0.\u001b[39m,\u001b[39m0.\u001b[39m]\n\u001b[1;32m    102\u001b[0m lin_ap\u001b[39m=\u001b[39m[]\n\u001b[0;32m--> 104\u001b[0m inp\u001b[39m=\u001b[39mtorch\u001b[39m.\u001b[39;49mtensor([\u001b[39m0.\u001b[39;49m],dtype\u001b[39m=\u001b[39;49m\u001b[39m'\u001b[39;49m\u001b[39mfloat32\u001b[39;49m\u001b[39m'\u001b[39;49m)\u001b[39m.\u001b[39mto(device)\n\u001b[1;32m    105\u001b[0m \u001b[39mfor\u001b[39;00m i \u001b[39min\u001b[39;00m \u001b[39miter\u001b[39m(batch):\n\u001b[1;32m    106\u001b[0m     \u001b[39m#pdb.set_trace()\u001b[39;00m\n\u001b[1;32m    107\u001b[0m     \u001b[39mself\u001b[39m\u001b[39m.\u001b[39moptimizer\u001b[39m.\u001b[39mzero_grad()\n",
      "\u001b[0;31mTypeError\u001b[0m: tensor(): argument 'dtype' must be torch.dtype, not str"
     ]
    }
   ],
   "source": [
    "import numpy as np\n",
    "import random\n",
    "import math\n",
    "import matplotlib.pyplot as plt\n",
    "#import springmassdamper as smd\n",
    "import copy\n",
    "import time\n",
    "import torch\n",
    "#import animation_test\n",
    "from scipy import signal\n",
    "from datasets import *\n",
    "import pdb\n",
    "from VAE import VAE\n",
    "torch.set_default_dtype(torch.float32)\n",
    "\n",
    "\n",
    "\n",
    "BS=2048    # Batch size for training\n",
    "\n",
    "## Run new simulations ##\n",
    "# d1, sim_length, _, _=smd.run_multimass_sim(run_nums=30,out_data=3,num_repeats=1)  # run simulation of 3 masses and a pendulum\n",
    "#d1, sim_length, _, _=smd.run_singlemass_sim(run_nums=30,out_data=3,num_repeats=1)   # run simulation of single mass system\n",
    "\n",
    "## Load previously generated simulation data ##\n",
    "# d1=torch.load('data_3.pt')\n",
    "\n",
    "datasets = {'springmass': spring_mass}\n",
    "propor=0.75\n",
    "dataset = datasets['springmass']('/Users/avi/Desktop/Food_GVAE-master/E2C_spring_mass/data/' )\n",
    "train_set, test_set = dataset[:int(len(dataset) * propor)], dataset[int(len(dataset) * propor):]\n",
    "train = torch.utils.data.DataLoader(train_set, batch_size=2048, shuffle=True, drop_last=False)\n",
    "test= torch.utils.data.DataLoader(test_set, batch_size=2048, shuffle=True, drop_last=False)\n",
    "#train=torch.utils.data.DataLoader(d1,batch_size=BS, shuffle=True)   \n",
    "\n",
    "model=VAE()\n",
    "device = torch.device(\"cpu\")    # Save the model to the CPU\n",
    "model.to(device)\n",
    "# model.load_state_dict(torch.load(\"./current_model_exp2\"))     # Load a previously trained model\n",
    "'''for name, param in model.named_parameters():\n",
    "    if param.requires_grad:\n",
    "        print (name, param.data)\n",
    "    pdb.set_trace()'''\n",
    "## Training loop ##\n",
    "for i in range(10000):\n",
    "    loss=model.training_step(train,device)\n",
    "    print(i, loss)\n",
    "\n",
    "torch.save(model.state_dict(), 'current_model7')    # Save the current model\n",
    "\n",
    "\n",
    "## Testing loop ##\n",
    "model=VAE()\n",
    "\n",
    "\n",
    "xhat, z, x = model.test(test,device)\n",
    "sim_length=1\n",
    "#\n"
   ]
  },
  {
   "cell_type": "code",
   "execution_count": 15,
   "metadata": {},
   "outputs": [],
   "source": [
    "import numpy as np\n",
    "import random\n",
    "import math\n",
    "import matplotlib.pyplot as plt\n",
    "#import springmassdamper as smd\n",
    "import copy\n",
    "import time\n",
    "import torch\n",
    "#import animation_test\n",
    "from scipy import signal\n",
    "from datasets import *\n",
    "import pdb\n",
    "from models import E2C\n",
    "\n",
    "torch.set_default_dtype(torch.float32)\n",
    "\n",
    "\n",
    "\n",
    "BS=2048    # Batch size for training\n",
    "\n",
    "## Run new simulations ##\n",
    "# d1, sim_length, _, _=smd.run_multimass_sim(run_nums=30,out_data=3,num_repeats=1)  # run simulation of 3 masses and a pendulum\n",
    "#d1, sim_length, _, _=smd.run_singlemass_sim(run_nums=30,out_data=3,num_repeats=1)   # run simulation of single mass system\n",
    "\n",
    "## Load previously generated simulation data ##\n",
    "# d1=torch.load('data_3.pt')\n",
    "\n",
    "datasets = {'springmass': spring_mass}\n",
    "propor=0.75\n",
    "dataset = datasets['springmass']('/Users/avi/Desktop/Food_GVAE-master/E2C_spring_mass/data/' )\n",
    "train_set, test_set = dataset[:int(len(dataset) * propor)], dataset[int(len(dataset) * propor):]\n",
    "train = torch.utils.data.DataLoader(train_set, batch_size=2048, shuffle=True, drop_last=False)\n",
    "test= torch.utils.data.DataLoader(test_set, batch_size=2048, shuffle=True, drop_last=False)\n",
    "#train=torch.utils.data.DataLoader(d1,batch_size=BS, shuffle=True)   \n"
   ]
  },
  {
   "cell_type": "code",
   "execution_count": 16,
   "metadata": {},
   "outputs": [
    {
     "ename": "NameError",
     "evalue": "name 'x' is not defined",
     "output_type": "error",
     "traceback": [
      "\u001b[0;31m---------------------------------------------------------------------------\u001b[0m",
      "\u001b[0;31mNameError\u001b[0m                                 Traceback (most recent call last)",
      "Cell \u001b[0;32mIn [16], line 2\u001b[0m\n\u001b[1;32m      1\u001b[0m \u001b[39m# Plot the latent space phase portrait ##\u001b[39;00m\n\u001b[0;32m----> 2\u001b[0m \u001b[39mfor\u001b[39;00m i \u001b[39min\u001b[39;00m \u001b[39mrange\u001b[39m(\u001b[39m0\u001b[39m,\u001b[39mlen\u001b[39m(x),sim_length):\n\u001b[1;32m      3\u001b[0m     plt\u001b[39m.\u001b[39mscatter(z[i:i\u001b[39m+\u001b[39msim_length,\u001b[39m0\u001b[39m],z[i:i\u001b[39m+\u001b[39msim_length,\u001b[39m1\u001b[39m])\n\u001b[1;32m      4\u001b[0m plt\u001b[39m.\u001b[39mshow()\n",
      "\u001b[0;31mNameError\u001b[0m: name 'x' is not defined"
     ]
    }
   ],
   "source": [
    "# Plot the latent space phase portrait ##\n",
    "for i in range(0,len(x),sim_length):\n",
    "    plt.scatter(z[i:i+sim_length,0],z[i:i+sim_length,1])\n",
    "plt.show()\n",
    "\n",
    "## Plot the state space phase portrait ##\n",
    "for i in range(0,len(x),sim_length):\n",
    "    plt.scatter(x[i:i+sim_length,0],x[i:i+sim_length,1])\n",
    "plt.show()"
   ]
  },
  {
   "cell_type": "code",
   "execution_count": 19,
   "metadata": {},
   "outputs": [],
   "source": [
    "\n",
    "test= torch.utils.data.DataLoader(test_set, batch_size=1028, shuffle=True, drop_last=False)"
   ]
  },
  {
   "cell_type": "code",
   "execution_count": 20,
   "metadata": {},
   "outputs": [],
   "source": [
    "first_batch = next(iter(test))"
   ]
  },
  {
   "cell_type": "code",
   "execution_count": 21,
   "metadata": {},
   "outputs": [
    {
     "data": {
      "text/plain": [
       "3"
      ]
     },
     "execution_count": 21,
     "metadata": {},
     "output_type": "execute_result"
    }
   ],
   "source": [
    "len(first_batch)\n"
   ]
  },
  {
   "cell_type": "code",
   "execution_count": 22,
   "metadata": {},
   "outputs": [],
   "source": [
    "x=first_batch[0]\n",
    "u=first_batch[1]\n",
    "x_next=first_batch[2]"
   ]
  },
  {
   "cell_type": "code",
   "execution_count": 44,
   "metadata": {},
   "outputs": [
    {
     "data": {
      "text/plain": [
       "=================================================================\n",
       "Layer (type:depth-idx)                   Param #\n",
       "=================================================================\n",
       "E2C                                      --\n",
       "├─springEncoder: 1-1                     --\n",
       "│    └─Sequential: 2-1                   --\n",
       "│    │    └─Linear: 3-1                  450\n",
       "│    │    └─BatchNorm1d: 3-2             300\n",
       "│    │    └─ReLU: 3-3                    --\n",
       "│    │    └─Linear: 3-4                  22,650\n",
       "│    │    └─BatchNorm1d: 3-5             300\n",
       "│    │    └─ReLU: 3-6                    --\n",
       "│    │    └─Linear: 3-7                  22,650\n",
       "│    │    └─BatchNorm1d: 3-8             300\n",
       "│    │    └─ReLU: 3-9                    --\n",
       "│    │    └─Linear: 3-10                 604\n",
       "├─springDecoder: 1-2                     --\n",
       "│    └─Sequential: 2-2                   --\n",
       "│    │    └─Linear: 3-11                 600\n",
       "│    │    └─BatchNorm1d: 3-12            400\n",
       "│    │    └─ReLU: 3-13                   --\n",
       "│    │    └─Linear: 3-14                 40,200\n",
       "│    │    └─BatchNorm1d: 3-15            400\n",
       "│    │    └─ReLU: 3-16                   --\n",
       "│    │    └─Linear: 3-17                 402\n",
       "│    │    └─Sigmoid: 3-18                --\n",
       "├─springTransition: 1-3                  --\n",
       "│    └─Sequential: 2-3                   --\n",
       "│    │    └─Linear: 3-19                 300\n",
       "│    │    └─BatchNorm1d: 3-20            200\n",
       "│    │    └─ReLU: 3-21                   --\n",
       "│    │    └─Linear: 3-22                 10,100\n",
       "│    │    └─BatchNorm1d: 3-23            200\n",
       "│    │    └─ReLU: 3-24                   --\n",
       "│    └─Sequential: 2-4                   --\n",
       "│    │    └─Linear: 3-25                 404\n",
       "│    │    └─Sigmoid: 3-26                --\n",
       "│    └─Linear: 2-5                       202\n",
       "│    └─Linear: 2-6                       202\n",
       "=================================================================\n",
       "Total params: 100,864\n",
       "Trainable params: 100,864\n",
       "Non-trainable params: 0\n",
       "================================================================="
      ]
     },
     "execution_count": 44,
     "metadata": {},
     "output_type": "execute_result"
    }
   ],
   "source": [
    "from torchinfo import summary\n",
    "summary(model)"
   ]
  },
  {
   "cell_type": "code",
   "execution_count": 17,
   "metadata": {},
   "outputs": [
    {
     "data": {
      "text/plain": [
       "E2C(\n",
       "  (encoder): springEncoder(\n",
       "    (net): Sequential(\n",
       "      (0): Linear(in_features=2, out_features=150, bias=True)\n",
       "      (1): BatchNorm1d(150, eps=1e-05, momentum=0.1, affine=True, track_running_stats=True)\n",
       "      (2): ReLU()\n",
       "      (3): Linear(in_features=150, out_features=150, bias=True)\n",
       "      (4): BatchNorm1d(150, eps=1e-05, momentum=0.1, affine=True, track_running_stats=True)\n",
       "      (5): ReLU()\n",
       "      (6): Linear(in_features=150, out_features=150, bias=True)\n",
       "      (7): BatchNorm1d(150, eps=1e-05, momentum=0.1, affine=True, track_running_stats=True)\n",
       "      (8): ReLU()\n",
       "      (9): Linear(in_features=150, out_features=4, bias=True)\n",
       "    )\n",
       "  )\n",
       "  (decoder): springDecoder(\n",
       "    (net): Sequential(\n",
       "      (0): Linear(in_features=2, out_features=200, bias=True)\n",
       "      (1): BatchNorm1d(200, eps=1e-05, momentum=0.1, affine=True, track_running_stats=True)\n",
       "      (2): ReLU()\n",
       "      (3): Linear(in_features=200, out_features=200, bias=True)\n",
       "      (4): BatchNorm1d(200, eps=1e-05, momentum=0.1, affine=True, track_running_stats=True)\n",
       "      (5): ReLU()\n",
       "      (6): Linear(in_features=200, out_features=2, bias=True)\n",
       "      (7): Sigmoid()\n",
       "    )\n",
       "  )\n",
       "  (trans): springTransition(\n",
       "    (net): Sequential(\n",
       "      (0): Linear(in_features=2, out_features=100, bias=True)\n",
       "      (1): BatchNorm1d(100, eps=1e-05, momentum=0.1, affine=True, track_running_stats=True)\n",
       "      (2): ReLU()\n",
       "      (3): Linear(in_features=100, out_features=100, bias=True)\n",
       "      (4): BatchNorm1d(100, eps=1e-05, momentum=0.1, affine=True, track_running_stats=True)\n",
       "      (5): ReLU()\n",
       "    )\n",
       "    (fc_A): Sequential(\n",
       "      (0): Linear(in_features=100, out_features=4, bias=True)\n",
       "      (1): Sigmoid()\n",
       "    )\n",
       "    (fc_B): Linear(in_features=100, out_features=2, bias=True)\n",
       "    (fc_o): Linear(in_features=100, out_features=2, bias=True)\n",
       "  )\n",
       ")"
      ]
     },
     "execution_count": 17,
     "metadata": {},
     "output_type": "execute_result"
    }
   ],
   "source": [
    "import torch\n",
    "from models import E2C\n",
    "\n",
    "# Load the trained model\n",
    "model = E2C(2,2,1)\n",
    "model.load_state_dict(torch.load('/Users/avi/Desktop/Food_GVAE-master/E2C_spring_mass/result/springmass/Users/avi/Desktop/Food_GVAE-master/E2C_spring_mass/logs/model_500'))\n",
    "\n",
    "\n",
    "model.eval()"
   ]
  },
  {
   "cell_type": "code",
   "execution_count": 23,
   "metadata": {},
   "outputs": [
    {
     "ename": "RuntimeError",
     "evalue": "mat1 and mat2 must have the same dtype",
     "output_type": "error",
     "traceback": [
      "\u001b[0;31m---------------------------------------------------------------------------\u001b[0m",
      "\u001b[0;31mRuntimeError\u001b[0m                              Traceback (most recent call last)",
      "Cell \u001b[0;32mIn [23], line 4\u001b[0m\n\u001b[1;32m      2\u001b[0m u \u001b[39m=\u001b[39m u\u001b[39m.\u001b[39mdouble()\u001b[39m.\u001b[39mto(device)\n\u001b[1;32m      3\u001b[0m x_next \u001b[39m=\u001b[39m x_next\u001b[39m.\u001b[39mview(\u001b[39m-\u001b[39m\u001b[39m1\u001b[39m, model\u001b[39m.\u001b[39mobs_dim)\u001b[39m.\u001b[39mdouble()\u001b[39m.\u001b[39mto(device)\n\u001b[0;32m----> 4\u001b[0m x_recon, x_next_pred, q_z, q_z_next_pred, q_z_next ,z\u001b[39m=\u001b[39m model\u001b[39m.\u001b[39;49mforward(x, u, x_next)\n",
      "File \u001b[0;32m~/Desktop/Food_GVAE-master/E2C_spring_mass/models.py:193\u001b[0m, in \u001b[0;36mE2C.forward\u001b[0;34m(self, x, u, x_next)\u001b[0m\n\u001b[1;32m    191\u001b[0m \u001b[39mdef\u001b[39;00m \u001b[39mforward\u001b[39m(\u001b[39mself\u001b[39m, x, u, x_next):\n\u001b[1;32m    192\u001b[0m     \u001b[39m#pdb.set_trace()\u001b[39;00m\n\u001b[0;32m--> 193\u001b[0m     mu, logvar \u001b[39m=\u001b[39m \u001b[39mself\u001b[39;49m\u001b[39m.\u001b[39;49mencode(x)\n\u001b[1;32m    194\u001b[0m     z \u001b[39m=\u001b[39m \u001b[39mself\u001b[39m\u001b[39m.\u001b[39mreparam(mu, logvar)\n\u001b[1;32m    195\u001b[0m     q_z \u001b[39m=\u001b[39m NormalDistribution(mu, logvar)\n",
      "File \u001b[0;32m~/Desktop/Food_GVAE-master/E2C_spring_mass/models.py:170\u001b[0m, in \u001b[0;36mE2C.encode\u001b[0;34m(self, x)\u001b[0m\n\u001b[1;32m    165\u001b[0m \u001b[39m\"\"\"\u001b[39;00m\n\u001b[1;32m    166\u001b[0m \u001b[39m:param x:\u001b[39;00m\n\u001b[1;32m    167\u001b[0m \u001b[39m:return: mean and log variance of q(z | x)\u001b[39;00m\n\u001b[1;32m    168\u001b[0m \u001b[39m\"\"\"\u001b[39;00m\n\u001b[1;32m    169\u001b[0m \u001b[39m#print(x.shape)\u001b[39;00m\n\u001b[0;32m--> 170\u001b[0m \u001b[39mreturn\u001b[39;00m \u001b[39mself\u001b[39;49m\u001b[39m.\u001b[39;49mencoder(x)\n",
      "File \u001b[0;32m~/opt/anaconda3/envs/tensorflow/lib/python3.9/site-packages/torch/nn/modules/module.py:1501\u001b[0m, in \u001b[0;36mModule._call_impl\u001b[0;34m(self, *args, **kwargs)\u001b[0m\n\u001b[1;32m   1496\u001b[0m \u001b[39m# If we don't have any hooks, we want to skip the rest of the logic in\u001b[39;00m\n\u001b[1;32m   1497\u001b[0m \u001b[39m# this function, and just call forward.\u001b[39;00m\n\u001b[1;32m   1498\u001b[0m \u001b[39mif\u001b[39;00m \u001b[39mnot\u001b[39;00m (\u001b[39mself\u001b[39m\u001b[39m.\u001b[39m_backward_hooks \u001b[39mor\u001b[39;00m \u001b[39mself\u001b[39m\u001b[39m.\u001b[39m_backward_pre_hooks \u001b[39mor\u001b[39;00m \u001b[39mself\u001b[39m\u001b[39m.\u001b[39m_forward_hooks \u001b[39mor\u001b[39;00m \u001b[39mself\u001b[39m\u001b[39m.\u001b[39m_forward_pre_hooks\n\u001b[1;32m   1499\u001b[0m         \u001b[39mor\u001b[39;00m _global_backward_pre_hooks \u001b[39mor\u001b[39;00m _global_backward_hooks\n\u001b[1;32m   1500\u001b[0m         \u001b[39mor\u001b[39;00m _global_forward_hooks \u001b[39mor\u001b[39;00m _global_forward_pre_hooks):\n\u001b[0;32m-> 1501\u001b[0m     \u001b[39mreturn\u001b[39;00m forward_call(\u001b[39m*\u001b[39;49margs, \u001b[39m*\u001b[39;49m\u001b[39m*\u001b[39;49mkwargs)\n\u001b[1;32m   1502\u001b[0m \u001b[39m# Do not call functions when jit is used\u001b[39;00m\n\u001b[1;32m   1503\u001b[0m full_backward_hooks, non_full_backward_hooks \u001b[39m=\u001b[39m [], []\n",
      "File \u001b[0;32m~/Desktop/Food_GVAE-master/E2C_spring_mass/models.py:31\u001b[0m, in \u001b[0;36mEncoder.forward\u001b[0;34m(self, x)\u001b[0m\n\u001b[1;32m     26\u001b[0m \u001b[39mdef\u001b[39;00m \u001b[39mforward\u001b[39m(\u001b[39mself\u001b[39m, x):\n\u001b[1;32m     27\u001b[0m     \u001b[39m\"\"\"\u001b[39;00m\n\u001b[1;32m     28\u001b[0m \u001b[39m    :param x: observation\u001b[39;00m\n\u001b[1;32m     29\u001b[0m \u001b[39m    :return: the parameters of distribution q(z|x)\u001b[39;00m\n\u001b[1;32m     30\u001b[0m \u001b[39m    \"\"\"\u001b[39;00m\n\u001b[0;32m---> 31\u001b[0m     \u001b[39mreturn\u001b[39;00m \u001b[39mself\u001b[39;49m\u001b[39m.\u001b[39;49mnet(x)\u001b[39m.\u001b[39mchunk(\u001b[39m2\u001b[39m, dim \u001b[39m=\u001b[39m \u001b[39m1\u001b[39m)\n",
      "File \u001b[0;32m~/opt/anaconda3/envs/tensorflow/lib/python3.9/site-packages/torch/nn/modules/module.py:1501\u001b[0m, in \u001b[0;36mModule._call_impl\u001b[0;34m(self, *args, **kwargs)\u001b[0m\n\u001b[1;32m   1496\u001b[0m \u001b[39m# If we don't have any hooks, we want to skip the rest of the logic in\u001b[39;00m\n\u001b[1;32m   1497\u001b[0m \u001b[39m# this function, and just call forward.\u001b[39;00m\n\u001b[1;32m   1498\u001b[0m \u001b[39mif\u001b[39;00m \u001b[39mnot\u001b[39;00m (\u001b[39mself\u001b[39m\u001b[39m.\u001b[39m_backward_hooks \u001b[39mor\u001b[39;00m \u001b[39mself\u001b[39m\u001b[39m.\u001b[39m_backward_pre_hooks \u001b[39mor\u001b[39;00m \u001b[39mself\u001b[39m\u001b[39m.\u001b[39m_forward_hooks \u001b[39mor\u001b[39;00m \u001b[39mself\u001b[39m\u001b[39m.\u001b[39m_forward_pre_hooks\n\u001b[1;32m   1499\u001b[0m         \u001b[39mor\u001b[39;00m _global_backward_pre_hooks \u001b[39mor\u001b[39;00m _global_backward_hooks\n\u001b[1;32m   1500\u001b[0m         \u001b[39mor\u001b[39;00m _global_forward_hooks \u001b[39mor\u001b[39;00m _global_forward_pre_hooks):\n\u001b[0;32m-> 1501\u001b[0m     \u001b[39mreturn\u001b[39;00m forward_call(\u001b[39m*\u001b[39;49margs, \u001b[39m*\u001b[39;49m\u001b[39m*\u001b[39;49mkwargs)\n\u001b[1;32m   1502\u001b[0m \u001b[39m# Do not call functions when jit is used\u001b[39;00m\n\u001b[1;32m   1503\u001b[0m full_backward_hooks, non_full_backward_hooks \u001b[39m=\u001b[39m [], []\n",
      "File \u001b[0;32m~/opt/anaconda3/envs/tensorflow/lib/python3.9/site-packages/torch/nn/modules/container.py:217\u001b[0m, in \u001b[0;36mSequential.forward\u001b[0;34m(self, input)\u001b[0m\n\u001b[1;32m    215\u001b[0m \u001b[39mdef\u001b[39;00m \u001b[39mforward\u001b[39m(\u001b[39mself\u001b[39m, \u001b[39minput\u001b[39m):\n\u001b[1;32m    216\u001b[0m     \u001b[39mfor\u001b[39;00m module \u001b[39min\u001b[39;00m \u001b[39mself\u001b[39m:\n\u001b[0;32m--> 217\u001b[0m         \u001b[39minput\u001b[39m \u001b[39m=\u001b[39m module(\u001b[39minput\u001b[39;49m)\n\u001b[1;32m    218\u001b[0m     \u001b[39mreturn\u001b[39;00m \u001b[39minput\u001b[39m\n",
      "File \u001b[0;32m~/opt/anaconda3/envs/tensorflow/lib/python3.9/site-packages/torch/nn/modules/module.py:1501\u001b[0m, in \u001b[0;36mModule._call_impl\u001b[0;34m(self, *args, **kwargs)\u001b[0m\n\u001b[1;32m   1496\u001b[0m \u001b[39m# If we don't have any hooks, we want to skip the rest of the logic in\u001b[39;00m\n\u001b[1;32m   1497\u001b[0m \u001b[39m# this function, and just call forward.\u001b[39;00m\n\u001b[1;32m   1498\u001b[0m \u001b[39mif\u001b[39;00m \u001b[39mnot\u001b[39;00m (\u001b[39mself\u001b[39m\u001b[39m.\u001b[39m_backward_hooks \u001b[39mor\u001b[39;00m \u001b[39mself\u001b[39m\u001b[39m.\u001b[39m_backward_pre_hooks \u001b[39mor\u001b[39;00m \u001b[39mself\u001b[39m\u001b[39m.\u001b[39m_forward_hooks \u001b[39mor\u001b[39;00m \u001b[39mself\u001b[39m\u001b[39m.\u001b[39m_forward_pre_hooks\n\u001b[1;32m   1499\u001b[0m         \u001b[39mor\u001b[39;00m _global_backward_pre_hooks \u001b[39mor\u001b[39;00m _global_backward_hooks\n\u001b[1;32m   1500\u001b[0m         \u001b[39mor\u001b[39;00m _global_forward_hooks \u001b[39mor\u001b[39;00m _global_forward_pre_hooks):\n\u001b[0;32m-> 1501\u001b[0m     \u001b[39mreturn\u001b[39;00m forward_call(\u001b[39m*\u001b[39;49margs, \u001b[39m*\u001b[39;49m\u001b[39m*\u001b[39;49mkwargs)\n\u001b[1;32m   1502\u001b[0m \u001b[39m# Do not call functions when jit is used\u001b[39;00m\n\u001b[1;32m   1503\u001b[0m full_backward_hooks, non_full_backward_hooks \u001b[39m=\u001b[39m [], []\n",
      "File \u001b[0;32m~/opt/anaconda3/envs/tensorflow/lib/python3.9/site-packages/torch/nn/modules/linear.py:114\u001b[0m, in \u001b[0;36mLinear.forward\u001b[0;34m(self, input)\u001b[0m\n\u001b[1;32m    113\u001b[0m \u001b[39mdef\u001b[39;00m \u001b[39mforward\u001b[39m(\u001b[39mself\u001b[39m, \u001b[39minput\u001b[39m: Tensor) \u001b[39m-\u001b[39m\u001b[39m>\u001b[39m Tensor:\n\u001b[0;32m--> 114\u001b[0m     \u001b[39mreturn\u001b[39;00m F\u001b[39m.\u001b[39;49mlinear(\u001b[39minput\u001b[39;49m, \u001b[39mself\u001b[39;49m\u001b[39m.\u001b[39;49mweight, \u001b[39mself\u001b[39;49m\u001b[39m.\u001b[39;49mbias)\n",
      "\u001b[0;31mRuntimeError\u001b[0m: mat1 and mat2 must have the same dtype"
     ]
    }
   ],
   "source": [
    "\n",
    "\n",
    "\n",
    "x = x.view(-1, model.obs_dim).double().to(device)\n",
    "u = u.double().to(device)\n",
    "x_next = x_next.view(-1, model.obs_dim).double().to(device)\n",
    "x_recon, x_next_pred, q_z, q_z_next_pred, q_z_next ,z= model.forward(x, u, x_next)\n",
    "\n",
    "\n"
   ]
  },
  {
   "cell_type": "code",
   "execution_count": null,
   "metadata": {},
   "outputs": [],
   "source": [
    "sim_length=1\n",
    "for i in range(0,len(x),sim_length):\n",
    "    plt.scatter(z[i:i+sim_length,0],z[i:i+sim_length,1])\n",
    "plt.show()\n",
    "\n",
    "## Plot the state space phase portrait ##\n",
    "for i in range(0,len(x),sim_length):\n",
    "    plt.scatter(x[i:i+sim_length,0],x[i:i+sim_length,1])\n",
    "plt.show()"
   ]
  },
  {
   "cell_type": "code",
   "execution_count": 2,
   "metadata": {},
   "outputs": [],
   "source": [
    "import torch\n",
    "a=torch.load('/Users/avi/Desktop/Food_GVAE-master/E2C_spring_mass/data_exp_osc_02142023.pt')"
   ]
  },
  {
   "cell_type": "code",
   "execution_count": 9,
   "metadata": {},
   "outputs": [
    {
     "data": {
      "text/plain": [
       "torch.Size([4])"
      ]
     },
     "execution_count": 9,
     "metadata": {},
     "output_type": "execute_result"
    }
   ],
   "source": [
    "a[1][0].shape"
   ]
  },
  {
   "cell_type": "code",
   "execution_count": 10,
   "metadata": {},
   "outputs": [
    {
     "data": {
      "text/plain": [
       "12720"
      ]
     },
     "execution_count": 10,
     "metadata": {},
     "output_type": "execute_result"
    }
   ],
   "source": [
    "len(a)"
   ]
  },
  {
   "cell_type": "code",
   "execution_count": 11,
   "metadata": {},
   "outputs": [
    {
     "data": {
      "text/plain": [
       "2"
      ]
     },
     "execution_count": 11,
     "metadata": {},
     "output_type": "execute_result"
    }
   ],
   "source": []
  },
  {
   "cell_type": "code",
   "execution_count": null,
   "metadata": {},
   "outputs": [],
   "source": []
  }
 ],
 "metadata": {
  "kernelspec": {
   "display_name": "tensorflow",
   "language": "python",
   "name": "python3"
  },
  "language_info": {
   "codemirror_mode": {
    "name": "ipython",
    "version": 3
   },
   "file_extension": ".py",
   "mimetype": "text/x-python",
   "name": "python",
   "nbconvert_exporter": "python",
   "pygments_lexer": "ipython3",
   "version": "3.9.13"
  },
  "orig_nbformat": 4,
  "vscode": {
   "interpreter": {
    "hash": "fd033e919f2865372c53c9d0b7768162a3d592df5df89b08587267bd5a03fe07"
   }
  }
 },
 "nbformat": 4,
 "nbformat_minor": 2
}
