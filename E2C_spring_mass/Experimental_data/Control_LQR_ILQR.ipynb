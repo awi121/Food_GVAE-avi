{
 "cells": [
  {
   "cell_type": "code",
   "execution_count": 51,
   "metadata": {},
   "outputs": [],
   "source": [
    "\n",
    "A=torch.load('/Users/avi/Desktop/Food_GVAE-master/E2C_spring_mass/latent_2/control_data_2.pt')"
   ]
  },
  {
   "cell_type": "code",
   "execution_count": 52,
   "metadata": {},
   "outputs": [],
   "source": [
    "import torch\n",
    "import numpy as np"
   ]
  },
  {
   "cell_type": "code",
   "execution_count": 53,
   "metadata": {},
   "outputs": [],
   "source": [
    "A=A[:100]"
   ]
  },
  {
   "cell_type": "code",
   "execution_count": 54,
   "metadata": {},
   "outputs": [],
   "source": [
    "# store 1st element of each list in a new list states 2nd element of each list in a new list A_mat and 3rd element of each list in a new list B_mat\n",
    "states=[]\n",
    "A_mat=[]\n",
    "B_mat=[]\n",
    "for i in range(len(A)):\n",
    "    states.append(A[i][0].detach().numpy()[:4])\n",
    "    A_mat.append(A[i][1].detach().numpy()[:4,:4])\n",
    "    B_mat.append(A[i][2].detach().numpy()[:4,:1].squeeze())\n",
    "\n",
    "\n"
   ]
  },
  {
   "cell_type": "code",
   "execution_count": 42,
   "metadata": {},
   "outputs": [],
   "source": [
    "import numpy as np\n",
    "import matplotlib.pyplot as plt \n",
    "import matplotlib.animation as animation \n",
    "import numpy as np \n",
    "import time\n",
    "import control"
   ]
  },
  {
   "cell_type": "code",
   "execution_count": 56,
   "metadata": {},
   "outputs": [],
   "source": [
    "def state_space_model(A, state_t_minus_1, B, control_input_t_minus_1):\n",
    "    state_estimate_t = (A @ state_t_minus_1) + (B @ control_input_t_minus_1)\n",
    "    return state_estimate_t"
   ]
  },
  {
   "cell_type": "code",
   "execution_count": 63,
   "metadata": {},
   "outputs": [],
   "source": [
    "def get_control_waypoints(waypoints,A_matR,B_matR,R,error_th = 1, verbose = False):\n",
    "    waypoints = [np.array(i) for i in waypoints]\n",
    "    trajectory = []\n",
    "    controls = []\n",
    "    error = []\n",
    "    waypoints_reached = []\n",
    "    actual_state_x = np.array([0,0,0,0])\n",
    "    \n",
    "    Q = np.array([[1, 0, 0, 0],[0, 1.0, 0, 0], [0, 0, 1.0, 0],[0,0,0,1.0]])    \n",
    "    for desired_state_xf,A,B in zip(waypoints,A_matR,B_matR):\n",
    "        state_error_magnitude = 1e10\n",
    "        waypoints_reached.append(actual_state_x)\n",
    "        while state_error_magnitude >= error_th:\n",
    "            if verbose:\n",
    "                print(f'Current State = {actual_state_x}')\n",
    "                print(f'Desired State = {desired_state_xf}')\n",
    "            state_error = actual_state_x - desired_state_xf\n",
    "            trajectory.append(actual_state_x)\n",
    "            state_error_magnitude = np.linalg.norm(state_error)    \n",
    "            error.append(state_error_magnitude)\n",
    "            if verbose:\n",
    "                print(f'State Error Magnitude = {state_error_magnitude}')\n",
    "            print(B.shape)\n",
    "            B=B.reshape(4,1)\n",
    "            optimal_control_input = control.dlqr(A, B, Q, R)[0]\n",
    "            controls.append(optimal_control_input)\n",
    "            if verbose: \n",
    "                print(f'Control Input = {optimal_control_input}')\n",
    "            actual_state_x = state_space_model(A, actual_state_x, B, \n",
    "                                            optimal_control_input)\n",
    "            if verbose:\n",
    "                if state_error_magnitude < error_th:\n",
    "                    print(\"\\nGoal Has Been Reached Successfully!\")\n",
    "    return(trajectory,controls,waypoints_reached,error)"
   ]
  },
  {
   "cell_type": "code",
   "execution_count": 64,
   "metadata": {},
   "outputs": [],
   "source": [
    "def get_animation(waypoints,trajectory,verbose=False,marker_txt=True):\n",
    "    plt.style.use('dark_background')\n",
    "    fig = plt.figure(figsize=(10, 10)) \n",
    "    ax = plt.axes(xlim=(0, 110), ylim=(0, 110)) \n",
    "    x1 = np.array(waypoints).T[1]\n",
    "    x0 = np.array(waypoints).T[0]\n",
    "    x2 = np.array(waypoints).T[2]\n",
    "    x3 = np.array(waypoints).T[3]\n",
    "    n = [i for i in range(len(waypoints))]\n",
    "\n",
    "\n",
    "    plt.subplots()\n",
    "    plt.plot(range(len(np.array(waypoints).T[0])), np.array(waypoints).T[0], \"-r\", label=\"original\")\n",
    "    plt.plot(range(len(np.array(waypoints).T[0])), np.array(trajectory).T[0], \"-g\", label=\"tracking\")\n",
    "    plt.plot(range(len(np.array(waypoints).T[0])), np.array(waypoints).T[1], \"-r\", label=\"original\")\n",
    "    plt.plot(range(len(np.array(waypoints).T[0])), np.array(trajectory).T[1], \"-g\", label=\"tracking\")\n",
    "    plt.plot(range(len(np.array(waypoints).T[0])), np.array(waypoints).T[2], \"-r\", label=\"original\")\n",
    "    plt.plot(range(len(np.array(waypoints).T[0])), np.array(trajectory).T[2], \"-g\", label=\"tracking\")\n",
    "    plt.plot(range(len(np.array(waypoints).T[0])), np.array(waypoints).T[3], \"-r\", label=\"original\")\n",
    "    plt.plot(range(len(np.array(waypoints).T[0])), np.array(trajectory).T[3], \"-g\", label=\"tracking\")\n",
    "    plt.axis(\"equal\")\n",
    "    plt.xlabel(\"time\")\n",
    "    plt.ylabel(\"states\")\n",
    "    plt.legend()\n",
    "\n",
    "    \n",
    "    def init(): \n",
    "        line.set_data([], []) \n",
    "        return line, \n",
    "    xdata, ydata = [], [] \n",
    "    \n",
    "    def animate(i): \n",
    "        x=range(len(trajectory[i][0]))\n",
    "        y = trajectory[i][0]\n",
    "        xdata.append(x) \n",
    "        ydata.append(y) \n",
    "        line.set_data(xdata, ydata)\n",
    "        #text_ = \"       CONTROL\\n\"+'Velocity: '+ str(np.round(controls[i][0],2))+'\\nAngular-velocity: '+str(np.round(controls[i][1],2))\n",
    "        #label.set_text(text_)\n",
    "        if verbose:\n",
    "            print(i,x,y)\n",
    "        return line, \n",
    "    anim = animation.FuncAnimation(fig, animate, init_func=init, \n",
    "                                  frames=len(trajectory), interval=1, blit=True,) \n",
    "    anim.save('coil.gif',writer='imagemagick')\n",
    "    plt.subplots()\n",
    "    plt.plot(np.arange(len(controls)), np.array(controls).T[0], \"-r\", label=\"control\")\n",
    "    plt.xlabel(\"Time [s]\")\n",
    "    plt.ylabel(\"control\")\n",
    "    plt.show()\n",
    "    "
   ]
  },
  {
   "cell_type": "code",
   "execution_count": 67,
   "metadata": {},
   "outputs": [
    {
     "name": "stdout",
     "output_type": "stream",
     "text": [
      "(4,)\n"
     ]
    },
    {
     "ename": "ControlDimension",
     "evalue": "Incompatible dimensions of R matrix",
     "output_type": "error",
     "traceback": [
      "\u001b[0;31m---------------------------------------------------------------------------\u001b[0m",
      "\u001b[0;31mControlDimension\u001b[0m                          Traceback (most recent call last)",
      "\u001b[1;32m/Users/avi/Desktop/Food_GVAE-master/E2C_spring_mass/Experimental_data/Control_LQR_ILQR.ipynb Cell 9\u001b[0m in \u001b[0;36m1\n\u001b[1;32m      <a href='vscode-notebook-cell:/Users/avi/Desktop/Food_GVAE-master/E2C_spring_mass/Experimental_data/Control_LQR_ILQR.ipynb#X14sZmlsZQ%3D%3D?line=7'>8</a>\u001b[0m     B_mat\u001b[39m.\u001b[39mappend(A[i][\u001b[39m2\u001b[39m]\u001b[39m.\u001b[39mdetach()\u001b[39m.\u001b[39mnumpy()[:\u001b[39m4\u001b[39m,:\u001b[39m1\u001b[39m]\u001b[39m.\u001b[39msqueeze())\n\u001b[1;32m     <a href='vscode-notebook-cell:/Users/avi/Desktop/Food_GVAE-master/E2C_spring_mass/Experimental_data/Control_LQR_ILQR.ipynb#X14sZmlsZQ%3D%3D?line=9'>10</a>\u001b[0m R \u001b[39m=\u001b[39m np\u001b[39m.\u001b[39marray([[\u001b[39m1.0\u001b[39m, \u001b[39m0\u001b[39m],[\u001b[39m0\u001b[39m, \u001b[39m1.0\u001b[39m]])\n\u001b[0;32m---> <a href='vscode-notebook-cell:/Users/avi/Desktop/Food_GVAE-master/E2C_spring_mass/Experimental_data/Control_LQR_ILQR.ipynb#X14sZmlsZQ%3D%3D?line=10'>11</a>\u001b[0m trajectory,controls,waypoints_reached,error \u001b[39m=\u001b[39m get_control_waypoints(states,A_mat,B_mat,R,error_th \u001b[39m=\u001b[39;49m \u001b[39m1\u001b[39;49m, verbose\u001b[39m=\u001b[39;49m\u001b[39mFalse\u001b[39;49;00m)\n\u001b[1;32m     <a href='vscode-notebook-cell:/Users/avi/Desktop/Food_GVAE-master/E2C_spring_mass/Experimental_data/Control_LQR_ILQR.ipynb#X14sZmlsZQ%3D%3D?line=11'>12</a>\u001b[0m get_animation(waypoints,trajectory)\n",
      "\u001b[1;32m/Users/avi/Desktop/Food_GVAE-master/E2C_spring_mass/Experimental_data/Control_LQR_ILQR.ipynb Cell 9\u001b[0m in \u001b[0;36m2\n\u001b[1;32m     <a href='vscode-notebook-cell:/Users/avi/Desktop/Food_GVAE-master/E2C_spring_mass/Experimental_data/Control_LQR_ILQR.ipynb#X14sZmlsZQ%3D%3D?line=22'>23</a>\u001b[0m \u001b[39mprint\u001b[39m(B\u001b[39m.\u001b[39mshape)\n\u001b[1;32m     <a href='vscode-notebook-cell:/Users/avi/Desktop/Food_GVAE-master/E2C_spring_mass/Experimental_data/Control_LQR_ILQR.ipynb#X14sZmlsZQ%3D%3D?line=23'>24</a>\u001b[0m B\u001b[39m=\u001b[39mB\u001b[39m.\u001b[39mreshape(\u001b[39m4\u001b[39m,\u001b[39m1\u001b[39m)\n\u001b[0;32m---> <a href='vscode-notebook-cell:/Users/avi/Desktop/Food_GVAE-master/E2C_spring_mass/Experimental_data/Control_LQR_ILQR.ipynb#X14sZmlsZQ%3D%3D?line=24'>25</a>\u001b[0m optimal_control_input \u001b[39m=\u001b[39m control\u001b[39m.\u001b[39;49mdlqr(A, B, Q, R)[\u001b[39m0\u001b[39m]\n\u001b[1;32m     <a href='vscode-notebook-cell:/Users/avi/Desktop/Food_GVAE-master/E2C_spring_mass/Experimental_data/Control_LQR_ILQR.ipynb#X14sZmlsZQ%3D%3D?line=25'>26</a>\u001b[0m controls\u001b[39m.\u001b[39mappend(optimal_control_input)\n\u001b[1;32m     <a href='vscode-notebook-cell:/Users/avi/Desktop/Food_GVAE-master/E2C_spring_mass/Experimental_data/Control_LQR_ILQR.ipynb#X14sZmlsZQ%3D%3D?line=26'>27</a>\u001b[0m \u001b[39mif\u001b[39;00m verbose: \n",
      "File \u001b[0;32m~/opt/anaconda3/envs/tensorflow/lib/python3.9/site-packages/control/statefbk.py:594\u001b[0m, in \u001b[0;36mdlqr\u001b[0;34m(*args, **kwargs)\u001b[0m\n\u001b[1;32m    591\u001b[0m     \u001b[39mraise\u001b[39;00m \u001b[39mTypeError\u001b[39;00m(\u001b[39m\"\u001b[39m\u001b[39munrecognized keywords: \u001b[39m\u001b[39m\"\u001b[39m, \u001b[39mstr\u001b[39m(kwargs))\n\u001b[1;32m    593\u001b[0m \u001b[39m# Compute the result (dimension and symmetry checking done in dare())\u001b[39;00m\n\u001b[0;32m--> 594\u001b[0m S, E, K \u001b[39m=\u001b[39m dare(A, B, Q, R, N, method\u001b[39m=\u001b[39;49mmethod, S_s\u001b[39m=\u001b[39;49m\u001b[39m\"\u001b[39;49m\u001b[39mN\u001b[39;49m\u001b[39m\"\u001b[39;49m)\n\u001b[1;32m    595\u001b[0m \u001b[39mreturn\u001b[39;00m _ssmatrix(K), _ssmatrix(S), E\n",
      "File \u001b[0;32m~/opt/anaconda3/envs/tensorflow/lib/python3.9/site-packages/control/mateqn.py:584\u001b[0m, in \u001b[0;36mdare\u001b[0;34m(A, B, Q, R, S, E, stabilizing, method, A_s, B_s, Q_s, R_s, S_s, E_s)\u001b[0m\n\u001b[1;32m    582\u001b[0m _check_shape(B_s, B, n, m)\n\u001b[1;32m    583\u001b[0m _check_shape(Q_s, Q, n, n, square\u001b[39m=\u001b[39m\u001b[39mTrue\u001b[39;00m, symmetric\u001b[39m=\u001b[39m\u001b[39mTrue\u001b[39;00m)\n\u001b[0;32m--> 584\u001b[0m _check_shape(R_s, R, m, m, square\u001b[39m=\u001b[39;49m\u001b[39mTrue\u001b[39;49;00m, symmetric\u001b[39m=\u001b[39;49m\u001b[39mTrue\u001b[39;49;00m)\n\u001b[1;32m    585\u001b[0m \u001b[39mif\u001b[39;00m E \u001b[39mis\u001b[39;00m \u001b[39mnot\u001b[39;00m \u001b[39mNone\u001b[39;00m:\n\u001b[1;32m    586\u001b[0m     _check_shape(E_s, E, n, n, square\u001b[39m=\u001b[39m\u001b[39mTrue\u001b[39;00m)\n",
      "File \u001b[0;32m~/opt/anaconda3/envs/tensorflow/lib/python3.9/site-packages/control/mateqn.py:657\u001b[0m, in \u001b[0;36m_check_shape\u001b[0;34m(name, M, n, m, square, symmetric)\u001b[0m\n\u001b[1;32m    654\u001b[0m     \u001b[39mraise\u001b[39;00m ControlArgument(\u001b[39m\"\u001b[39m\u001b[39m%s\u001b[39;00m\u001b[39m must be a symmetric matrix\u001b[39m\u001b[39m\"\u001b[39m \u001b[39m%\u001b[39m name)\n\u001b[1;32m    656\u001b[0m \u001b[39mif\u001b[39;00m M\u001b[39m.\u001b[39mshape[\u001b[39m0\u001b[39m] \u001b[39m!=\u001b[39m n \u001b[39mor\u001b[39;00m M\u001b[39m.\u001b[39mshape[\u001b[39m1\u001b[39m] \u001b[39m!=\u001b[39m m:\n\u001b[0;32m--> 657\u001b[0m     \u001b[39mraise\u001b[39;00m ControlDimension(\u001b[39m\"\u001b[39m\u001b[39mIncompatible dimensions of \u001b[39m\u001b[39m%s\u001b[39;00m\u001b[39m matrix\u001b[39m\u001b[39m\"\u001b[39m \u001b[39m%\u001b[39m name)\n",
      "\u001b[0;31mControlDimension\u001b[0m: Incompatible dimensions of R matrix"
     ]
    }
   ],
   "source": [
    "# store 1st element of each list in a new list states 2nd element of each list in a new list A_mat and 3rd element of each list in a new list B_mat\n",
    "states=[]\n",
    "A_mat=[]\n",
    "B_mat=[]\n",
    "for i in range(len(A)):\n",
    "    states.append(A[i][0].detach().numpy()[:4])\n",
    "    A_mat.append(A[i][1].detach().numpy()[:4,:4])\n",
    "    B_mat.append(A[i][2].detach().numpy()[:4,:1].squeeze())\n",
    "\n",
    "R = np.array([[1.0, 0],[0, 1.0]])\n",
    "trajectory,controls,waypoints_reached,error = get_control_waypoints(states,A_mat,B_mat,R,error_th = 1, verbose=False)\n",
    "get_animation(waypoints,trajectory)"
   ]
  },
  {
   "cell_type": "code",
   "execution_count": null,
   "metadata": {},
   "outputs": [],
   "source": []
  }
 ],
 "metadata": {
  "kernelspec": {
   "display_name": "tensorflow",
   "language": "python",
   "name": "python3"
  },
  "language_info": {
   "codemirror_mode": {
    "name": "ipython",
    "version": 3
   },
   "file_extension": ".py",
   "mimetype": "text/x-python",
   "name": "python",
   "nbconvert_exporter": "python",
   "pygments_lexer": "ipython3",
   "version": "3.9.13"
  },
  "orig_nbformat": 4
 },
 "nbformat": 4,
 "nbformat_minor": 2
}
